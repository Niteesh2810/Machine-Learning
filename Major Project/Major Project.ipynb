{
 "cells": [
  {
   "cell_type": "markdown",
   "id": "2df8fe41",
   "metadata": {},
   "source": [
    "# <center>INCOME PREDICTION OF A PERSON</center>"
   ]
  },
  {
   "cell_type": "markdown",
   "id": "3a396df9",
   "metadata": {},
   "source": [
    "### IMPORTING THE LIBRARIES"
   ]
  },
  {
   "cell_type": "code",
   "execution_count": 1,
   "id": "bc6d1e39",
   "metadata": {},
   "outputs": [],
   "source": [
    "import pandas as pd\n",
    "import numpy as np\n",
    "import matplotlib.pyplot as plt"
   ]
  },
  {
   "cell_type": "markdown",
   "id": "0011561b",
   "metadata": {},
   "source": [
    "### READING THE FILE "
   ]
  },
  {
   "cell_type": "code",
   "execution_count": 2,
   "id": "bf27b88a",
   "metadata": {},
   "outputs": [
    {
     "data": {
      "text/html": [
       "<div>\n",
       "<style scoped>\n",
       "    .dataframe tbody tr th:only-of-type {\n",
       "        vertical-align: middle;\n",
       "    }\n",
       "\n",
       "    .dataframe tbody tr th {\n",
       "        vertical-align: top;\n",
       "    }\n",
       "\n",
       "    .dataframe thead th {\n",
       "        text-align: right;\n",
       "    }\n",
       "</style>\n",
       "<table border=\"1\" class=\"dataframe\">\n",
       "  <thead>\n",
       "    <tr style=\"text-align: right;\">\n",
       "      <th></th>\n",
       "      <th>39</th>\n",
       "      <th>State-gov</th>\n",
       "      <th>77516</th>\n",
       "      <th>Bachelors</th>\n",
       "      <th>13</th>\n",
       "      <th>Never-married</th>\n",
       "      <th>Adm-clerical</th>\n",
       "      <th>Not-in-family</th>\n",
       "      <th>White</th>\n",
       "      <th>Male</th>\n",
       "      <th>2174</th>\n",
       "      <th>0</th>\n",
       "      <th>40</th>\n",
       "      <th>United-States</th>\n",
       "      <th>&lt;=50K</th>\n",
       "    </tr>\n",
       "  </thead>\n",
       "  <tbody>\n",
       "    <tr>\n",
       "      <th>0</th>\n",
       "      <td>50</td>\n",
       "      <td>Self-emp-not-inc</td>\n",
       "      <td>83311</td>\n",
       "      <td>Bachelors</td>\n",
       "      <td>13</td>\n",
       "      <td>Married-civ-spouse</td>\n",
       "      <td>Exec-managerial</td>\n",
       "      <td>Husband</td>\n",
       "      <td>White</td>\n",
       "      <td>Male</td>\n",
       "      <td>0</td>\n",
       "      <td>0</td>\n",
       "      <td>13</td>\n",
       "      <td>United-States</td>\n",
       "      <td>&lt;=50K</td>\n",
       "    </tr>\n",
       "    <tr>\n",
       "      <th>1</th>\n",
       "      <td>38</td>\n",
       "      <td>Private</td>\n",
       "      <td>215646</td>\n",
       "      <td>HS-grad</td>\n",
       "      <td>9</td>\n",
       "      <td>Divorced</td>\n",
       "      <td>Handlers-cleaners</td>\n",
       "      <td>Not-in-family</td>\n",
       "      <td>White</td>\n",
       "      <td>Male</td>\n",
       "      <td>0</td>\n",
       "      <td>0</td>\n",
       "      <td>40</td>\n",
       "      <td>United-States</td>\n",
       "      <td>&lt;=50K</td>\n",
       "    </tr>\n",
       "    <tr>\n",
       "      <th>2</th>\n",
       "      <td>53</td>\n",
       "      <td>Private</td>\n",
       "      <td>234721</td>\n",
       "      <td>11th</td>\n",
       "      <td>7</td>\n",
       "      <td>Married-civ-spouse</td>\n",
       "      <td>Handlers-cleaners</td>\n",
       "      <td>Husband</td>\n",
       "      <td>Black</td>\n",
       "      <td>Male</td>\n",
       "      <td>0</td>\n",
       "      <td>0</td>\n",
       "      <td>40</td>\n",
       "      <td>United-States</td>\n",
       "      <td>&lt;=50K</td>\n",
       "    </tr>\n",
       "    <tr>\n",
       "      <th>3</th>\n",
       "      <td>28</td>\n",
       "      <td>Private</td>\n",
       "      <td>338409</td>\n",
       "      <td>Bachelors</td>\n",
       "      <td>13</td>\n",
       "      <td>Married-civ-spouse</td>\n",
       "      <td>Prof-specialty</td>\n",
       "      <td>Wife</td>\n",
       "      <td>Black</td>\n",
       "      <td>Female</td>\n",
       "      <td>0</td>\n",
       "      <td>0</td>\n",
       "      <td>40</td>\n",
       "      <td>Cuba</td>\n",
       "      <td>&lt;=50K</td>\n",
       "    </tr>\n",
       "    <tr>\n",
       "      <th>4</th>\n",
       "      <td>37</td>\n",
       "      <td>Private</td>\n",
       "      <td>284582</td>\n",
       "      <td>Masters</td>\n",
       "      <td>14</td>\n",
       "      <td>Married-civ-spouse</td>\n",
       "      <td>Exec-managerial</td>\n",
       "      <td>Wife</td>\n",
       "      <td>White</td>\n",
       "      <td>Female</td>\n",
       "      <td>0</td>\n",
       "      <td>0</td>\n",
       "      <td>40</td>\n",
       "      <td>United-States</td>\n",
       "      <td>&lt;=50K</td>\n",
       "    </tr>\n",
       "  </tbody>\n",
       "</table>\n",
       "</div>"
      ],
      "text/plain": [
       "   39          State-gov   77516   Bachelors   13        Never-married  \\\n",
       "0  50   Self-emp-not-inc   83311   Bachelors   13   Married-civ-spouse   \n",
       "1  38            Private  215646     HS-grad    9             Divorced   \n",
       "2  53            Private  234721        11th    7   Married-civ-spouse   \n",
       "3  28            Private  338409   Bachelors   13   Married-civ-spouse   \n",
       "4  37            Private  284582     Masters   14   Married-civ-spouse   \n",
       "\n",
       "         Adm-clerical   Not-in-family   White     Male   2174   0   40  \\\n",
       "0     Exec-managerial         Husband   White     Male      0   0   13   \n",
       "1   Handlers-cleaners   Not-in-family   White     Male      0   0   40   \n",
       "2   Handlers-cleaners         Husband   Black     Male      0   0   40   \n",
       "3      Prof-specialty            Wife   Black   Female      0   0   40   \n",
       "4     Exec-managerial            Wife   White   Female      0   0   40   \n",
       "\n",
       "    United-States   <=50K  \n",
       "0   United-States   <=50K  \n",
       "1   United-States   <=50K  \n",
       "2   United-States   <=50K  \n",
       "3            Cuba   <=50K  \n",
       "4   United-States   <=50K  "
      ]
     },
     "execution_count": 2,
     "metadata": {},
     "output_type": "execute_result"
    }
   ],
   "source": [
    "df=pd.read_csv('adult.csv')\n",
    "df.head()"
   ]
  },
  {
   "cell_type": "markdown",
   "id": "423ba0fb",
   "metadata": {},
   "source": [
    "### CHANGING COLUMN NAMES"
   ]
  },
  {
   "cell_type": "code",
   "execution_count": 3,
   "id": "97ac3ae1",
   "metadata": {},
   "outputs": [
    {
     "data": {
      "text/plain": [
       "Index(['39', ' State-gov', ' 77516', ' Bachelors', ' 13', ' Never-married',\n",
       "       ' Adm-clerical', ' Not-in-family', ' White', ' Male', ' 2174', ' 0',\n",
       "       ' 40', ' United-States', ' <=50K'],\n",
       "      dtype='object')"
      ]
     },
     "execution_count": 3,
     "metadata": {},
     "output_type": "execute_result"
    }
   ],
   "source": [
    "df.columns"
   ]
  },
  {
   "cell_type": "code",
   "execution_count": 4,
   "id": "0d36fba9",
   "metadata": {},
   "outputs": [
    {
     "data": {
      "text/plain": [
       "Index(['Age', 'Workclass', 'Fnlwgt', 'Education', 'education_num',\n",
       "       'marital_status', 'occupation', 'relationship', 'race', 'sex',\n",
       "       'capital_gain', 'capital_loss', 'hours_per_week', 'native_country',\n",
       "       'income'],\n",
       "      dtype='object')"
      ]
     },
     "execution_count": 4,
     "metadata": {},
     "output_type": "execute_result"
    }
   ],
   "source": [
    "df.columns=['Age','Workclass','Fnlwgt','Education','education_num','marital_status','occupation','relationship','race','sex','capital_gain','capital_loss','hours_per_week','native_country','income']\n",
    "df.columns"
   ]
  },
  {
   "cell_type": "code",
   "execution_count": 5,
   "id": "f898f520",
   "metadata": {},
   "outputs": [
    {
     "data": {
      "text/html": [
       "<div>\n",
       "<style scoped>\n",
       "    .dataframe tbody tr th:only-of-type {\n",
       "        vertical-align: middle;\n",
       "    }\n",
       "\n",
       "    .dataframe tbody tr th {\n",
       "        vertical-align: top;\n",
       "    }\n",
       "\n",
       "    .dataframe thead th {\n",
       "        text-align: right;\n",
       "    }\n",
       "</style>\n",
       "<table border=\"1\" class=\"dataframe\">\n",
       "  <thead>\n",
       "    <tr style=\"text-align: right;\">\n",
       "      <th></th>\n",
       "      <th>Age</th>\n",
       "      <th>Workclass</th>\n",
       "      <th>Fnlwgt</th>\n",
       "      <th>Education</th>\n",
       "      <th>education_num</th>\n",
       "      <th>marital_status</th>\n",
       "      <th>occupation</th>\n",
       "      <th>relationship</th>\n",
       "      <th>race</th>\n",
       "      <th>sex</th>\n",
       "      <th>capital_gain</th>\n",
       "      <th>capital_loss</th>\n",
       "      <th>hours_per_week</th>\n",
       "      <th>native_country</th>\n",
       "      <th>income</th>\n",
       "    </tr>\n",
       "  </thead>\n",
       "  <tbody>\n",
       "    <tr>\n",
       "      <th>0</th>\n",
       "      <td>50</td>\n",
       "      <td>Self-emp-not-inc</td>\n",
       "      <td>83311</td>\n",
       "      <td>Bachelors</td>\n",
       "      <td>13</td>\n",
       "      <td>Married-civ-spouse</td>\n",
       "      <td>Exec-managerial</td>\n",
       "      <td>Husband</td>\n",
       "      <td>White</td>\n",
       "      <td>Male</td>\n",
       "      <td>0</td>\n",
       "      <td>0</td>\n",
       "      <td>13</td>\n",
       "      <td>United-States</td>\n",
       "      <td>&lt;=50K</td>\n",
       "    </tr>\n",
       "    <tr>\n",
       "      <th>1</th>\n",
       "      <td>38</td>\n",
       "      <td>Private</td>\n",
       "      <td>215646</td>\n",
       "      <td>HS-grad</td>\n",
       "      <td>9</td>\n",
       "      <td>Divorced</td>\n",
       "      <td>Handlers-cleaners</td>\n",
       "      <td>Not-in-family</td>\n",
       "      <td>White</td>\n",
       "      <td>Male</td>\n",
       "      <td>0</td>\n",
       "      <td>0</td>\n",
       "      <td>40</td>\n",
       "      <td>United-States</td>\n",
       "      <td>&lt;=50K</td>\n",
       "    </tr>\n",
       "    <tr>\n",
       "      <th>2</th>\n",
       "      <td>53</td>\n",
       "      <td>Private</td>\n",
       "      <td>234721</td>\n",
       "      <td>11th</td>\n",
       "      <td>7</td>\n",
       "      <td>Married-civ-spouse</td>\n",
       "      <td>Handlers-cleaners</td>\n",
       "      <td>Husband</td>\n",
       "      <td>Black</td>\n",
       "      <td>Male</td>\n",
       "      <td>0</td>\n",
       "      <td>0</td>\n",
       "      <td>40</td>\n",
       "      <td>United-States</td>\n",
       "      <td>&lt;=50K</td>\n",
       "    </tr>\n",
       "    <tr>\n",
       "      <th>3</th>\n",
       "      <td>28</td>\n",
       "      <td>Private</td>\n",
       "      <td>338409</td>\n",
       "      <td>Bachelors</td>\n",
       "      <td>13</td>\n",
       "      <td>Married-civ-spouse</td>\n",
       "      <td>Prof-specialty</td>\n",
       "      <td>Wife</td>\n",
       "      <td>Black</td>\n",
       "      <td>Female</td>\n",
       "      <td>0</td>\n",
       "      <td>0</td>\n",
       "      <td>40</td>\n",
       "      <td>Cuba</td>\n",
       "      <td>&lt;=50K</td>\n",
       "    </tr>\n",
       "    <tr>\n",
       "      <th>4</th>\n",
       "      <td>37</td>\n",
       "      <td>Private</td>\n",
       "      <td>284582</td>\n",
       "      <td>Masters</td>\n",
       "      <td>14</td>\n",
       "      <td>Married-civ-spouse</td>\n",
       "      <td>Exec-managerial</td>\n",
       "      <td>Wife</td>\n",
       "      <td>White</td>\n",
       "      <td>Female</td>\n",
       "      <td>0</td>\n",
       "      <td>0</td>\n",
       "      <td>40</td>\n",
       "      <td>United-States</td>\n",
       "      <td>&lt;=50K</td>\n",
       "    </tr>\n",
       "  </tbody>\n",
       "</table>\n",
       "</div>"
      ],
      "text/plain": [
       "   Age          Workclass  Fnlwgt   Education  education_num  \\\n",
       "0   50   Self-emp-not-inc   83311   Bachelors             13   \n",
       "1   38            Private  215646     HS-grad              9   \n",
       "2   53            Private  234721        11th              7   \n",
       "3   28            Private  338409   Bachelors             13   \n",
       "4   37            Private  284582     Masters             14   \n",
       "\n",
       "        marital_status          occupation    relationship    race      sex  \\\n",
       "0   Married-civ-spouse     Exec-managerial         Husband   White     Male   \n",
       "1             Divorced   Handlers-cleaners   Not-in-family   White     Male   \n",
       "2   Married-civ-spouse   Handlers-cleaners         Husband   Black     Male   \n",
       "3   Married-civ-spouse      Prof-specialty            Wife   Black   Female   \n",
       "4   Married-civ-spouse     Exec-managerial            Wife   White   Female   \n",
       "\n",
       "   capital_gain  capital_loss  hours_per_week  native_country  income  \n",
       "0             0             0              13   United-States   <=50K  \n",
       "1             0             0              40   United-States   <=50K  \n",
       "2             0             0              40   United-States   <=50K  \n",
       "3             0             0              40            Cuba   <=50K  \n",
       "4             0             0              40   United-States   <=50K  "
      ]
     },
     "execution_count": 5,
     "metadata": {},
     "output_type": "execute_result"
    }
   ],
   "source": [
    "df.head()"
   ]
  },
  {
   "cell_type": "markdown",
   "id": "6c0e52c0",
   "metadata": {},
   "source": [
    "### REMOVING UNWANTED COLUMNS"
   ]
  },
  {
   "cell_type": "code",
   "execution_count": 6,
   "id": "0896fb20",
   "metadata": {},
   "outputs": [
    {
     "data": {
      "text/plain": [
       "(32560, 15)"
      ]
     },
     "execution_count": 6,
     "metadata": {},
     "output_type": "execute_result"
    }
   ],
   "source": [
    "df.shape"
   ]
  },
  {
   "cell_type": "code",
   "execution_count": 7,
   "id": "d5677dfa",
   "metadata": {},
   "outputs": [
    {
     "data": {
      "text/html": [
       "<div>\n",
       "<style scoped>\n",
       "    .dataframe tbody tr th:only-of-type {\n",
       "        vertical-align: middle;\n",
       "    }\n",
       "\n",
       "    .dataframe tbody tr th {\n",
       "        vertical-align: top;\n",
       "    }\n",
       "\n",
       "    .dataframe thead th {\n",
       "        text-align: right;\n",
       "    }\n",
       "</style>\n",
       "<table border=\"1\" class=\"dataframe\">\n",
       "  <thead>\n",
       "    <tr style=\"text-align: right;\">\n",
       "      <th></th>\n",
       "      <th>Age</th>\n",
       "      <th>Workclass</th>\n",
       "      <th>Fnlwgt</th>\n",
       "      <th>education_num</th>\n",
       "      <th>occupation</th>\n",
       "      <th>race</th>\n",
       "      <th>sex</th>\n",
       "      <th>capital_gain</th>\n",
       "      <th>capital_loss</th>\n",
       "      <th>hours_per_week</th>\n",
       "      <th>income</th>\n",
       "    </tr>\n",
       "  </thead>\n",
       "  <tbody>\n",
       "    <tr>\n",
       "      <th>0</th>\n",
       "      <td>50</td>\n",
       "      <td>Self-emp-not-inc</td>\n",
       "      <td>83311</td>\n",
       "      <td>13</td>\n",
       "      <td>Exec-managerial</td>\n",
       "      <td>White</td>\n",
       "      <td>Male</td>\n",
       "      <td>0</td>\n",
       "      <td>0</td>\n",
       "      <td>13</td>\n",
       "      <td>&lt;=50K</td>\n",
       "    </tr>\n",
       "    <tr>\n",
       "      <th>1</th>\n",
       "      <td>38</td>\n",
       "      <td>Private</td>\n",
       "      <td>215646</td>\n",
       "      <td>9</td>\n",
       "      <td>Handlers-cleaners</td>\n",
       "      <td>White</td>\n",
       "      <td>Male</td>\n",
       "      <td>0</td>\n",
       "      <td>0</td>\n",
       "      <td>40</td>\n",
       "      <td>&lt;=50K</td>\n",
       "    </tr>\n",
       "    <tr>\n",
       "      <th>2</th>\n",
       "      <td>53</td>\n",
       "      <td>Private</td>\n",
       "      <td>234721</td>\n",
       "      <td>7</td>\n",
       "      <td>Handlers-cleaners</td>\n",
       "      <td>Black</td>\n",
       "      <td>Male</td>\n",
       "      <td>0</td>\n",
       "      <td>0</td>\n",
       "      <td>40</td>\n",
       "      <td>&lt;=50K</td>\n",
       "    </tr>\n",
       "    <tr>\n",
       "      <th>3</th>\n",
       "      <td>28</td>\n",
       "      <td>Private</td>\n",
       "      <td>338409</td>\n",
       "      <td>13</td>\n",
       "      <td>Prof-specialty</td>\n",
       "      <td>Black</td>\n",
       "      <td>Female</td>\n",
       "      <td>0</td>\n",
       "      <td>0</td>\n",
       "      <td>40</td>\n",
       "      <td>&lt;=50K</td>\n",
       "    </tr>\n",
       "    <tr>\n",
       "      <th>4</th>\n",
       "      <td>37</td>\n",
       "      <td>Private</td>\n",
       "      <td>284582</td>\n",
       "      <td>14</td>\n",
       "      <td>Exec-managerial</td>\n",
       "      <td>White</td>\n",
       "      <td>Female</td>\n",
       "      <td>0</td>\n",
       "      <td>0</td>\n",
       "      <td>40</td>\n",
       "      <td>&lt;=50K</td>\n",
       "    </tr>\n",
       "  </tbody>\n",
       "</table>\n",
       "</div>"
      ],
      "text/plain": [
       "   Age          Workclass  Fnlwgt  education_num          occupation    race  \\\n",
       "0   50   Self-emp-not-inc   83311             13     Exec-managerial   White   \n",
       "1   38            Private  215646              9   Handlers-cleaners   White   \n",
       "2   53            Private  234721              7   Handlers-cleaners   Black   \n",
       "3   28            Private  338409             13      Prof-specialty   Black   \n",
       "4   37            Private  284582             14     Exec-managerial   White   \n",
       "\n",
       "       sex  capital_gain  capital_loss  hours_per_week  income  \n",
       "0     Male             0             0              13   <=50K  \n",
       "1     Male             0             0              40   <=50K  \n",
       "2     Male             0             0              40   <=50K  \n",
       "3   Female             0             0              40   <=50K  \n",
       "4   Female             0             0              40   <=50K  "
      ]
     },
     "execution_count": 7,
     "metadata": {},
     "output_type": "execute_result"
    }
   ],
   "source": [
    "#Sunce we already have a column as education_num which represents the education but in numbers we can delete the education column\n",
    "df.drop(['marital_status','relationship','native_country','Education'],axis=1,inplace=True)\n",
    "df.head()"
   ]
  },
  {
   "cell_type": "code",
   "execution_count": 8,
   "id": "22d0f9bf",
   "metadata": {},
   "outputs": [
    {
     "data": {
      "text/plain": [
       "(32560, 11)"
      ]
     },
     "execution_count": 8,
     "metadata": {},
     "output_type": "execute_result"
    }
   ],
   "source": [
    "df.shape"
   ]
  },
  {
   "cell_type": "markdown",
   "id": "84920a5b",
   "metadata": {},
   "source": [
    "### CHECKING FOR NULL VALUES"
   ]
  },
  {
   "cell_type": "code",
   "execution_count": 9,
   "id": "f43edf1f",
   "metadata": {},
   "outputs": [
    {
     "data": {
      "text/plain": [
       "Age               0\n",
       "Workclass         0\n",
       "Fnlwgt            0\n",
       "education_num     0\n",
       "occupation        0\n",
       "race              0\n",
       "sex               0\n",
       "capital_gain      0\n",
       "capital_loss      0\n",
       "hours_per_week    0\n",
       "income            0\n",
       "dtype: int64"
      ]
     },
     "execution_count": 9,
     "metadata": {},
     "output_type": "execute_result"
    }
   ],
   "source": [
    "df.isnull().sum()"
   ]
  },
  {
   "cell_type": "markdown",
   "id": "6afca338",
   "metadata": {},
   "source": [
    "### CHECKING FOR DATA TYPES AND CHANGING THEM"
   ]
  },
  {
   "cell_type": "code",
   "execution_count": 10,
   "id": "d2515f41",
   "metadata": {
    "scrolled": true
   },
   "outputs": [
    {
     "data": {
      "text/plain": [
       "Age                int64\n",
       "Workclass         object\n",
       "Fnlwgt             int64\n",
       "education_num      int64\n",
       "occupation        object\n",
       "race              object\n",
       "sex               object\n",
       "capital_gain       int64\n",
       "capital_loss       int64\n",
       "hours_per_week     int64\n",
       "income            object\n",
       "dtype: object"
      ]
     },
     "execution_count": 10,
     "metadata": {},
     "output_type": "execute_result"
    }
   ],
   "source": [
    "df.dtypes"
   ]
  },
  {
   "cell_type": "code",
   "execution_count": 11,
   "id": "3b142045",
   "metadata": {},
   "outputs": [],
   "source": [
    "from sklearn.preprocessing import LabelEncoder"
   ]
  },
  {
   "cell_type": "code",
   "execution_count": 12,
   "id": "f6de481d",
   "metadata": {},
   "outputs": [],
   "source": [
    "lb=LabelEncoder()"
   ]
  },
  {
   "cell_type": "code",
   "execution_count": 13,
   "id": "ac8a5d1a",
   "metadata": {},
   "outputs": [
    {
     "data": {
      "text/plain": [
       " Prof-specialty       4140\n",
       " Craft-repair         4099\n",
       " Exec-managerial      4066\n",
       " Adm-clerical         3769\n",
       " Sales                3650\n",
       " Other-service        3295\n",
       " Machine-op-inspct    2002\n",
       " ?                    1843\n",
       " Transport-moving     1597\n",
       " Handlers-cleaners    1370\n",
       " Farming-fishing       994\n",
       " Tech-support          928\n",
       " Protective-serv       649\n",
       " Priv-house-serv       149\n",
       " Armed-Forces            9\n",
       "Name: occupation, dtype: int64"
      ]
     },
     "execution_count": 13,
     "metadata": {},
     "output_type": "execute_result"
    }
   ],
   "source": [
    "df['occupation'].value_counts()"
   ]
  },
  {
   "cell_type": "code",
   "execution_count": 14,
   "id": "f8e5463b",
   "metadata": {},
   "outputs": [
    {
     "data": {
      "text/plain": [
       " Prof-specialty       4140\n",
       " Craft-repair         4099\n",
       " Exec-managerial      4066\n",
       " Adm-clerical         3769\n",
       " Sales                3650\n",
       " Other-service        3295\n",
       " Machine-op-inspct    2002\n",
       " Others               1843\n",
       " Transport-moving     1597\n",
       " Handlers-cleaners    1370\n",
       " Farming-fishing       994\n",
       " Tech-support          928\n",
       " Protective-serv       649\n",
       " Priv-house-serv       149\n",
       " Armed-Forces            9\n",
       "Name: occupation, dtype: int64"
      ]
     },
     "execution_count": 14,
     "metadata": {},
     "output_type": "execute_result"
    }
   ],
   "source": [
    "df['occupation']=df['occupation'].str.replace('?','Others',regex=True)\n",
    "df['occupation'].value_counts()"
   ]
  },
  {
   "cell_type": "code",
   "execution_count": 15,
   "id": "681503a6",
   "metadata": {},
   "outputs": [
    {
     "data": {
      "text/plain": [
       "10    4140\n",
       "2     4099\n",
       "3     4066\n",
       "0     3769\n",
       "12    3650\n",
       "7     3295\n",
       "6     2002\n",
       "8     1843\n",
       "14    1597\n",
       "5     1370\n",
       "4      994\n",
       "13     928\n",
       "11     649\n",
       "9      149\n",
       "1        9\n",
       "Name: occupation, dtype: int64"
      ]
     },
     "execution_count": 15,
     "metadata": {},
     "output_type": "execute_result"
    }
   ],
   "source": [
    "df['occupation']=lb.fit_transform(df['occupation'])\n",
    "df['occupation'].value_counts()"
   ]
  },
  {
   "cell_type": "code",
   "execution_count": 16,
   "id": "27f012b7",
   "metadata": {},
   "outputs": [
    {
     "data": {
      "text/plain": [
       " White                 27815\n",
       " Black                  3124\n",
       " Asian-Pac-Islander     1039\n",
       " Amer-Indian-Eskimo      311\n",
       " Other                   271\n",
       "Name: race, dtype: int64"
      ]
     },
     "execution_count": 16,
     "metadata": {},
     "output_type": "execute_result"
    }
   ],
   "source": [
    "df['race'].value_counts()"
   ]
  },
  {
   "cell_type": "code",
   "execution_count": 17,
   "id": "af72d1d5",
   "metadata": {},
   "outputs": [
    {
     "data": {
      "text/plain": [
       "4    27815\n",
       "2     3124\n",
       "1     1039\n",
       "0      311\n",
       "3      271\n",
       "Name: race, dtype: int64"
      ]
     },
     "execution_count": 17,
     "metadata": {},
     "output_type": "execute_result"
    }
   ],
   "source": [
    "df['race']=lb.fit_transform(df['race'])\n",
    "df['race'].value_counts()"
   ]
  },
  {
   "cell_type": "code",
   "execution_count": 18,
   "id": "c15196bf",
   "metadata": {},
   "outputs": [
    {
     "data": {
      "text/plain": [
       " Male      21789\n",
       " Female    10771\n",
       "Name: sex, dtype: int64"
      ]
     },
     "execution_count": 18,
     "metadata": {},
     "output_type": "execute_result"
    }
   ],
   "source": [
    "df['sex'].value_counts()"
   ]
  },
  {
   "cell_type": "code",
   "execution_count": 19,
   "id": "5fe68301",
   "metadata": {},
   "outputs": [
    {
     "data": {
      "text/plain": [
       "1    21789\n",
       "0    10771\n",
       "Name: sex, dtype: int64"
      ]
     },
     "execution_count": 19,
     "metadata": {},
     "output_type": "execute_result"
    }
   ],
   "source": [
    "df['sex']=lb.fit_transform(df['sex'])\n",
    "df['sex'].value_counts()"
   ]
  },
  {
   "cell_type": "code",
   "execution_count": 20,
   "id": "2faaf209",
   "metadata": {},
   "outputs": [
    {
     "data": {
      "text/plain": [
       " <=50K    24719\n",
       " >50K      7841\n",
       "Name: income, dtype: int64"
      ]
     },
     "execution_count": 20,
     "metadata": {},
     "output_type": "execute_result"
    }
   ],
   "source": [
    "df['income'].value_counts()"
   ]
  },
  {
   "cell_type": "code",
   "execution_count": 21,
   "id": "06936332",
   "metadata": {},
   "outputs": [
    {
     "data": {
      "text/plain": [
       "0    24719\n",
       "1     7841\n",
       "Name: income, dtype: int64"
      ]
     },
     "execution_count": 21,
     "metadata": {},
     "output_type": "execute_result"
    }
   ],
   "source": [
    "df['income']=lb.fit_transform(df['income'])\n",
    "df['income'].value_counts()"
   ]
  },
  {
   "cell_type": "code",
   "execution_count": 22,
   "id": "349a8012",
   "metadata": {},
   "outputs": [
    {
     "data": {
      "text/plain": [
       " Private             22696\n",
       " Self-emp-not-inc     2541\n",
       " Local-gov            2093\n",
       " ?                    1836\n",
       " State-gov            1297\n",
       " Self-emp-inc         1116\n",
       " Federal-gov           960\n",
       " Without-pay            14\n",
       " Never-worked            7\n",
       "Name: Workclass, dtype: int64"
      ]
     },
     "execution_count": 22,
     "metadata": {},
     "output_type": "execute_result"
    }
   ],
   "source": [
    "df['Workclass'].value_counts()"
   ]
  },
  {
   "cell_type": "code",
   "execution_count": 23,
   "id": "d905ab01",
   "metadata": {},
   "outputs": [
    {
     "data": {
      "text/plain": [
       " Private             22696\n",
       " Self-emp-not-inc     2541\n",
       " Local-gov            2093\n",
       " Others               1836\n",
       " State-gov            1297\n",
       " Self-emp-inc         1116\n",
       " Federal-gov           960\n",
       " Without-pay            14\n",
       " Never-worked            7\n",
       "Name: Workclass, dtype: int64"
      ]
     },
     "execution_count": 23,
     "metadata": {},
     "output_type": "execute_result"
    }
   ],
   "source": [
    "df['Workclass'] = df['Workclass'].str.replace('?', 'Others',regex=True)\n",
    "df['Workclass'].value_counts()"
   ]
  },
  {
   "cell_type": "code",
   "execution_count": 24,
   "id": "e40c22cf",
   "metadata": {
    "scrolled": true
   },
   "outputs": [
    {
     "data": {
      "text/plain": [
       "4    22696\n",
       "6     2541\n",
       "1     2093\n",
       "3     1836\n",
       "7     1297\n",
       "5     1116\n",
       "0      960\n",
       "8       14\n",
       "2        7\n",
       "Name: Workclass, dtype: int64"
      ]
     },
     "execution_count": 24,
     "metadata": {},
     "output_type": "execute_result"
    }
   ],
   "source": [
    "df['Workclass']=lb.fit_transform(df['Workclass'])\n",
    "df['Workclass'].value_counts()"
   ]
  },
  {
   "cell_type": "markdown",
   "id": "6d7657e9",
   "metadata": {},
   "source": [
    "### PLOTTING A BAR GRAPH"
   ]
  },
  {
   "cell_type": "code",
   "execution_count": 25,
   "id": "c9f17067",
   "metadata": {},
   "outputs": [
    {
     "data": {
      "text/plain": [
       "Text(0.5, 1.0, 'Income Count')"
      ]
     },
     "execution_count": 25,
     "metadata": {},
     "output_type": "execute_result"
    },
    {
     "data": {
      "image/png": "[encoded data removed]",
      "text/plain": [
       "<Figure size 432x288 with 1 Axes>"
      ]
     },
     "metadata": {
      "needs_background": "light"
     },
     "output_type": "display_data"
    }
   ],
   "source": [
    "r1=df['income'].value_counts()\n",
    "plt.bar(r1.index,r1)\n",
    "plt.xticks(r1.index)\n",
    "plt.xlabel('Income')\n",
    "plt.ylabel('Count')\n",
    "plt.title('Income Count')"
   ]
  },
  {
   "cell_type": "markdown",
   "id": "344e6f50",
   "metadata": {},
   "source": [
    "### SELECTING THE DEPENDENT AND INDEPENDENT VARIABLES"
   ]
  },
  {
   "cell_type": "code",
   "execution_count": 26,
   "id": "a004e7a9",
   "metadata": {},
   "outputs": [
    {
     "name": "stdout",
     "output_type": "stream",
     "text": [
      "<class 'pandas.core.frame.DataFrame'>\n",
      "<class 'pandas.core.series.Series'>\n",
      "(32560, 10)\n",
      "(32560,)\n"
     ]
    }
   ],
   "source": [
    "x=df.drop('income',axis=1)\n",
    "y=df['income']\n",
    "print(type(x))\n",
    "print(type(y))\n",
    "print(x.shape)\n",
    "print(y.shape)"
   ]
  },
  {
   "cell_type": "markdown",
   "id": "7c70b1fa",
   "metadata": {},
   "source": [
    "### SPLITTING THE MODEL INTO TRAIN AND TEST DATA "
   ]
  },
  {
   "cell_type": "code",
   "execution_count": 27,
   "id": "db0949f2",
   "metadata": {},
   "outputs": [],
   "source": [
    "from sklearn.model_selection import train_test_split\n",
    "x_train,x_test,y_train,y_test=train_test_split(x,y,test_size=0.25,random_state=42)"
   ]
  },
  {
   "cell_type": "code",
   "execution_count": 28,
   "id": "eb51f323",
   "metadata": {},
   "outputs": [
    {
     "name": "stdout",
     "output_type": "stream",
     "text": [
      "(24420, 10)\n",
      "(8140, 10)\n",
      "(24420,)\n",
      "(8140,)\n"
     ]
    }
   ],
   "source": [
    "print(x_train.shape)\n",
    "print(x_test.shape)\n",
    "print(y_train.shape)\n",
    "print(y_test.shape)"
   ]
  },
  {
   "cell_type": "markdown",
   "id": "42d3ddf5",
   "metadata": {},
   "source": [
    "### MODEL GENERATION"
   ]
  },
  {
   "cell_type": "code",
   "execution_count": 29,
   "id": "5b17f6e6",
   "metadata": {},
   "outputs": [],
   "source": [
    "from sklearn.metrics import confusion_matrix,classification_report"
   ]
  },
  {
   "cell_type": "code",
   "execution_count": 30,
   "id": "5f76148d",
   "metadata": {},
   "outputs": [],
   "source": [
    "def gen_model(model,x_train,x_test,y_train,y_test):\n",
    "    model.fit(x_train,y_train)\n",
    "    print('Training Score: ',model.score(x_train,y_train))\n",
    "    print('Testing Score: ',model.score(x_test,y_test))\n",
    "    ypred=model.predict(x_test)\n",
    "    global cm\n",
    "    cm=confusion_matrix(y_test,ypred)\n",
    "    print('\\nConfusion Matrix:\\n',cm)\n",
    "    print('\\nClassification Report:\\n',classification_report(y_test,ypred))"
   ]
  },
  {
   "cell_type": "markdown",
   "id": "e7c28923",
   "metadata": {},
   "source": [
    "### IMPORTING LIBRARIES"
   ]
  },
  {
   "cell_type": "code",
   "execution_count": 31,
   "id": "6b22307b",
   "metadata": {},
   "outputs": [],
   "source": [
    "from sklearn.linear_model import LogisticRegression\n",
    "from sklearn.tree import DecisionTreeClassifier\n",
    "from sklearn.ensemble import RandomForestClassifier\n",
    "from sklearn.svm import SVC\n",
    "from sklearn.neighbors import KNeighborsClassifier\n",
    "from sklearn.model_selection import GridSearchCV,RandomizedSearchCV"
   ]
  },
  {
   "cell_type": "markdown",
   "id": "b6387e0f",
   "metadata": {},
   "source": [
    "### FUNCTION FOR VALIDATING RESULTS FROM CLASSIFICATION REPORT "
   ]
  },
  {
   "cell_type": "code",
   "execution_count": 32,
   "id": "06e97e92",
   "metadata": {},
   "outputs": [],
   "source": [
    "def val_res(p):\n",
    "    precision0=p[0][0]/(p[0][0]+p[1][0])\n",
    "    precision1=p[1][1]/(p[1][1]+p[0][1])\n",
    "    recall0=p[0][0]/(p[0][0]+p[0][1])\n",
    "    recall1=p[1][1]/(p[1][1]+p[1][0])\n",
    "    f1s0=2*precision0*recall0/(precision0+recall0)\n",
    "    f1s1=2*precision1*recall1/(precision1+recall1)\n",
    "    acc=(p[0][0]+p[1][1])/(p[0][0]+p[0][1]+p[1][0]+p[1][1])\n",
    "    mp=(p[0][1]+p[1][0])/(p[0][0]+p[0][1]+p[1][0]+p[1][1])\n",
    "    print('Precision for 0: ',precision0)\n",
    "    print('Precision for 1: ',precision1)\n",
    "    print('Recall for 0: ',recall0)\n",
    "    print('Recall for 1: ',recall1)\n",
    "    print('F1-Score for 0: ',f1s0)\n",
    "    print('F1-Score for 1: ',f1s1)\n",
    "    print('Accuracy: ',acc)\n",
    "    print('Misclassification Percentage: ',mp)"
   ]
  },
  {
   "cell_type": "markdown",
   "id": "55dd2ac8",
   "metadata": {},
   "source": [
    "### LOGISTIC REGRESSION"
   ]
  },
  {
   "cell_type": "code",
   "execution_count": 33,
   "id": "82f042be",
   "metadata": {},
   "outputs": [
    {
     "name": "stdout",
     "output_type": "stream",
     "text": [
      "Training Score:  0.7972972972972973\n",
      "Testing Score:  0.8001228501228501\n",
      "\n",
      "Confusion Matrix:\n",
      " [[5987  170]\n",
      " [1457  526]]\n",
      "\n",
      "Classification Report:\n",
      "               precision    recall  f1-score   support\n",
      "\n",
      "           0       0.80      0.97      0.88      6157\n",
      "           1       0.76      0.27      0.39      1983\n",
      "\n",
      "    accuracy                           0.80      8140\n",
      "   macro avg       0.78      0.62      0.64      8140\n",
      "weighted avg       0.79      0.80      0.76      8140\n",
      "\n"
     ]
    }
   ],
   "source": [
    "m1=LogisticRegression()\n",
    "gen_model(m1,x_train,x_test,y_train,y_test)"
   ]
  },
  {
   "cell_type": "code",
   "execution_count": 34,
   "id": "74273503",
   "metadata": {},
   "outputs": [
    {
     "name": "stdout",
     "output_type": "stream",
     "text": [
      "Precision for 0:  0.8042718968296615\n",
      "Precision for 1:  0.7557471264367817\n",
      "Recall for 0:  0.9723891505603378\n",
      "Recall for 1:  0.2652546646495209\n",
      "F1-Score for 0:  0.8803764429086097\n",
      "F1-Score for 1:  0.3926838372527063\n",
      "Accuracy:  0.8001228501228501\n",
      "Misclassification Percentage:  0.19987714987714988\n"
     ]
    }
   ],
   "source": [
    "val_res(cm)"
   ]
  },
  {
   "cell_type": "markdown",
   "id": "f821f341",
   "metadata": {},
   "source": [
    "#### HYPERPARAMETER TUNING (DECISION TREE)"
   ]
  },
  {
   "cell_type": "code",
   "execution_count": 35,
   "id": "01fa32cb",
   "metadata": {},
   "outputs": [
    {
     "data": {
      "text/plain": [
       "RandomizedSearchCV(cv=5, estimator=DecisionTreeClassifier(),\n",
       "                   param_distributions={'criterion': ['gini', 'entropy'],\n",
       "                                        'max_depth': [4, 5, 6, 7, 8],\n",
       "                                        'min_samples_split': [10, 11, 12, 13,\n",
       "                                                              14, 15, 16, 17,\n",
       "                                                              18, 20]},\n",
       "                   scoring='accuracy')"
      ]
     },
     "execution_count": 35,
     "metadata": {},
     "output_type": "execute_result"
    }
   ],
   "source": [
    "dt1=DecisionTreeClassifier()\n",
    "params_dt={'criterion':['gini','entropy'],'max_depth':[4,5,6,7,8],'min_samples_split':[10,11,12,13,14,15,16,17,18,20]}\n",
    "rscv1=RandomizedSearchCV(estimator=dt1,param_distributions=params_dt,scoring='accuracy',cv=5)\n",
    "rscv1.fit(x_train,y_train)"
   ]
  },
  {
   "cell_type": "code",
   "execution_count": 36,
   "id": "8c11b20c",
   "metadata": {},
   "outputs": [
    {
     "name": "stdout",
     "output_type": "stream",
     "text": [
      "{'min_samples_split': 18, 'max_depth': 6, 'criterion': 'gini'}\n",
      "DecisionTreeClassifier(max_depth=6, min_samples_split=18)\n",
      "0.836773136773137\n"
     ]
    }
   ],
   "source": [
    "print(rscv1.best_params_)\n",
    "print(rscv1.best_estimator_)\n",
    "print(rscv1.best_score_)"
   ]
  },
  {
   "cell_type": "markdown",
   "id": "27bf4ed3",
   "metadata": {},
   "source": [
    "### DECISION TREE MODEL"
   ]
  },
  {
   "cell_type": "code",
   "execution_count": 37,
   "id": "7e4aca2c",
   "metadata": {},
   "outputs": [
    {
     "name": "stdout",
     "output_type": "stream",
     "text": [
      "Training Score:  0.8408681408681409\n",
      "Testing Score:  0.8356265356265357\n",
      "\n",
      "Confusion Matrix:\n",
      " [[5741  416]\n",
      " [ 922 1061]]\n",
      "\n",
      "Classification Report:\n",
      "               precision    recall  f1-score   support\n",
      "\n",
      "           0       0.86      0.93      0.90      6157\n",
      "           1       0.72      0.54      0.61      1983\n",
      "\n",
      "    accuracy                           0.84      8140\n",
      "   macro avg       0.79      0.73      0.75      8140\n",
      "weighted avg       0.83      0.84      0.83      8140\n",
      "\n"
     ]
    }
   ],
   "source": [
    "m2=DecisionTreeClassifier(criterion='gini',max_depth=6,min_samples_split=18)\n",
    "gen_model(m2,x_train,x_test,y_train,y_test)"
   ]
  },
  {
   "cell_type": "code",
   "execution_count": 38,
   "id": "1af7ffc0",
   "metadata": {},
   "outputs": [
    {
     "name": "stdout",
     "output_type": "stream",
     "text": [
      "Precision for 0:  0.8616238931412277\n",
      "Precision for 1:  0.7183480027081923\n",
      "Recall for 0:  0.9324346272535325\n",
      "Recall for 1:  0.535047907211296\n",
      "F1-Score for 0:  0.8956318252730109\n",
      "F1-Score for 1:  0.6132947976878612\n",
      "Accuracy:  0.8356265356265357\n",
      "Misclassification Percentage:  0.16437346437346437\n"
     ]
    }
   ],
   "source": [
    "val_res(cm)"
   ]
  },
  {
   "cell_type": "markdown",
   "id": "9b9aedde",
   "metadata": {},
   "source": [
    "### HYPERPARAMETER TUNING (RANDOM FOREST)"
   ]
  },
  {
   "cell_type": "code",
   "execution_count": 39,
   "id": "ef776b8c",
   "metadata": {},
   "outputs": [
    {
     "data": {
      "text/plain": [
       "RandomizedSearchCV(cv=5, estimator=RandomForestClassifier(),\n",
       "                   param_distributions={'criterion': ['gini', 'entropy'],\n",
       "                                        'max_depth': [4, 5, 6, 7, 8],\n",
       "                                        'min_samples_split': [10, 11, 12, 13,\n",
       "                                                              14, 15, 16, 17,\n",
       "                                                              18, 20],\n",
       "                                        'n_estimators': [50, 60, 70, 80, 90,\n",
       "                                                         100]},\n",
       "                   scoring='accuracy')"
      ]
     },
     "execution_count": 39,
     "metadata": {},
     "output_type": "execute_result"
    }
   ],
   "source": [
    "rf=RandomForestClassifier()\n",
    "params_rf={'n_estimators':[50,60,70,80,90,100],'criterion':['gini','entropy'],'max_depth':[4,5,6,7,8],'min_samples_split':[10,11,12,13,14,15,16,17,18,20]}\n",
    "rscv2=RandomizedSearchCV(estimator=rf,param_distributions=params_rf,scoring='accuracy',cv=5)\n",
    "rscv2.fit(x_train,y_train)"
   ]
  },
  {
   "cell_type": "code",
   "execution_count": 40,
   "id": "4e2ec096",
   "metadata": {},
   "outputs": [
    {
     "name": "stdout",
     "output_type": "stream",
     "text": [
      "{'n_estimators': 100, 'min_samples_split': 18, 'max_depth': 7, 'criterion': 'gini'}\n",
      "RandomForestClassifier(max_depth=7, min_samples_split=18)\n",
      "0.8431203931203932\n"
     ]
    }
   ],
   "source": [
    "print(rscv2.best_params_)\n",
    "print(rscv2.best_estimator_)\n",
    "print(rscv2.best_score_)"
   ]
  },
  {
   "cell_type": "markdown",
   "id": "582f95a3",
   "metadata": {},
   "source": [
    "### RANDOM FOREST MODEL"
   ]
  },
  {
   "cell_type": "code",
   "execution_count": 41,
   "id": "428f4fc9",
   "metadata": {},
   "outputs": [
    {
     "name": "stdout",
     "output_type": "stream",
     "text": [
      "Training Score:  0.846027846027846\n",
      "Testing Score:  0.8407862407862408\n",
      "\n",
      "Confusion Matrix:\n",
      " [[5919  238]\n",
      " [1058  925]]\n",
      "\n",
      "Classification Report:\n",
      "               precision    recall  f1-score   support\n",
      "\n",
      "           0       0.85      0.96      0.90      6157\n",
      "           1       0.80      0.47      0.59      1983\n",
      "\n",
      "    accuracy                           0.84      8140\n",
      "   macro avg       0.82      0.71      0.74      8140\n",
      "weighted avg       0.84      0.84      0.83      8140\n",
      "\n"
     ]
    }
   ],
   "source": [
    "m3=RandomForestClassifier(n_estimators=100,criterion='gini',max_depth=7,min_samples_split=18)\n",
    "gen_model(m3,x_train,x_test,y_train,y_test)"
   ]
  },
  {
   "cell_type": "code",
   "execution_count": 42,
   "id": "fdbdd1ee",
   "metadata": {},
   "outputs": [
    {
     "name": "stdout",
     "output_type": "stream",
     "text": [
      "Precision for 0:  0.848358893507238\n",
      "Precision for 1:  0.7953568357695615\n",
      "Recall for 0:  0.961344810784473\n",
      "Recall for 1:  0.4664649520927887\n",
      "F1-Score for 0:  0.9013248058474189\n",
      "F1-Score for 1:  0.5880483153210425\n",
      "Accuracy:  0.8407862407862408\n",
      "Misclassification Percentage:  0.15921375921375922\n"
     ]
    }
   ],
   "source": [
    "val_res(cm)"
   ]
  },
  {
   "cell_type": "markdown",
   "id": "04b4127b",
   "metadata": {},
   "source": [
    "### HYPERPARAMETER TUNING (SVM)"
   ]
  },
  {
   "cell_type": "code",
   "execution_count": 43,
   "id": "31c95f5f",
   "metadata": {},
   "outputs": [
    {
     "data": {
      "text/plain": [
       "RandomizedSearchCV(cv=5, estimator=SVC(),\n",
       "                   param_distributions={'C': [0.0001, 0.001, 0.01, 1, 10],\n",
       "                                        'degree': [1, 2, 3, 4, 5],\n",
       "                                        'gamma': [0.0001, 0.001, 0.01, 1, 10]},\n",
       "                   scoring='accuracy')"
      ]
     },
     "execution_count": 43,
     "metadata": {},
     "output_type": "execute_result"
    }
   ],
   "source": [
    "svc=SVC()\n",
    "params_svm={'C':[0.0001,0.001,0.01,1,10],'gamma':[0.0001,0.001,0.01,1,10],'degree':[1,2,3,4,5]}\n",
    "rscv4=RandomizedSearchCV(estimator=svc,param_distributions=params_svm,scoring='accuracy',cv=5)\n",
    "rscv4.fit(x_train,y_train)"
   ]
  },
  {
   "cell_type": "code",
   "execution_count": 44,
   "id": "266f1194",
   "metadata": {},
   "outputs": [
    {
     "name": "stdout",
     "output_type": "stream",
     "text": [
      "{'gamma': 10, 'degree': 1, 'C': 0.001}\n",
      "SVC(C=0.001, degree=1, gamma=10)\n",
      "0.7601146601146601\n"
     ]
    }
   ],
   "source": [
    "print(rscv4.best_params_)\n",
    "print(rscv4.best_estimator_)\n",
    "print(rscv4.best_score_)"
   ]
  },
  {
   "cell_type": "markdown",
   "id": "7f7c7816",
   "metadata": {},
   "source": [
    "### SVC MODEL"
   ]
  },
  {
   "cell_type": "code",
   "execution_count": 45,
   "id": "a088c86b",
   "metadata": {},
   "outputs": [
    {
     "name": "stdout",
     "output_type": "stream",
     "text": [
      "Training Score:  0.7937755937755938\n",
      "Testing Score:  0.8003685503685504\n",
      "\n",
      "Confusion Matrix:\n",
      " [[5879  278]\n",
      " [1347  636]]\n",
      "\n",
      "Classification Report:\n",
      "               precision    recall  f1-score   support\n",
      "\n",
      "           0       0.81      0.95      0.88      6157\n",
      "           1       0.70      0.32      0.44      1983\n",
      "\n",
      "    accuracy                           0.80      8140\n",
      "   macro avg       0.75      0.64      0.66      8140\n",
      "weighted avg       0.78      0.80      0.77      8140\n",
      "\n"
     ]
    }
   ],
   "source": [
    "m5=SVC(kernel='linear',C=0.001,gamma=10,degree=1)\n",
    "gen_model(m5,x_train,x_test,y_train,y_test)"
   ]
  },
  {
   "cell_type": "code",
   "execution_count": 46,
   "id": "d4d6785f",
   "metadata": {},
   "outputs": [
    {
     "name": "stdout",
     "output_type": "stream",
     "text": [
      "Precision for 0:  0.8135898145585386\n",
      "Precision for 1:  0.6958424507658644\n",
      "Recall for 0:  0.9548481403280819\n",
      "Recall for 1:  0.3207261724659607\n",
      "F1-Score for 0:  0.8785772995591422\n",
      "F1-Score for 1:  0.43907490507421465\n",
      "Accuracy:  0.8003685503685504\n",
      "Misclassification Percentage:  0.19963144963144963\n"
     ]
    }
   ],
   "source": [
    "val_res(cm)"
   ]
  },
  {
   "cell_type": "markdown",
   "id": "5d566621",
   "metadata": {},
   "source": [
    "### HYPERPARAMETER TUNING (KNN)"
   ]
  },
  {
   "cell_type": "code",
   "execution_count": 47,
   "id": "78736283",
   "metadata": {},
   "outputs": [
    {
     "data": {
      "text/plain": [
       "RandomizedSearchCV(cv=5, estimator=KNeighborsClassifier(),\n",
       "                   param_distributions={'n_neighbors': [3, 5, 7, 9, 11, 13, 15,\n",
       "                                                        17, 19, 21, 23, 25, 27,\n",
       "                                                        29, 31, 33, 35, 37, 39,\n",
       "                                                        41, 43, 45, 47, 49]},\n",
       "                   scoring='accuracy')"
      ]
     },
     "execution_count": 47,
     "metadata": {},
     "output_type": "execute_result"
    }
   ],
   "source": [
    "knn=KNeighborsClassifier()\n",
    "params_knn={'n_neighbors':list(range(3,50,2))}\n",
    "rscv3=RandomizedSearchCV(estimator=knn,param_distributions=params_knn,scoring='accuracy',cv=5)\n",
    "rscv3.fit(x_train,y_train)"
   ]
  },
  {
   "cell_type": "code",
   "execution_count": 48,
   "id": "84c06e52",
   "metadata": {},
   "outputs": [
    {
     "name": "stdout",
     "output_type": "stream",
     "text": [
      "{'n_neighbors': 21}\n",
      "KNeighborsClassifier(n_neighbors=21)\n",
      "0.798034398034398\n"
     ]
    }
   ],
   "source": [
    "print(rscv3.best_params_)\n",
    "print(rscv3.best_estimator_)\n",
    "print(rscv3.best_score_)"
   ]
  },
  {
   "cell_type": "markdown",
   "id": "1b6f0983",
   "metadata": {},
   "source": [
    "### KNN MODEL"
   ]
  },
  {
   "cell_type": "code",
   "execution_count": 49,
   "id": "161b3b04",
   "metadata": {},
   "outputs": [
    {
     "name": "stdout",
     "output_type": "stream",
     "text": [
      "Training Score:  0.8033988533988534\n",
      "Testing Score:  0.7987714987714988\n",
      "\n",
      "Confusion Matrix:\n",
      " [[6072   85]\n",
      " [1553  430]]\n",
      "\n",
      "Classification Report:\n",
      "               precision    recall  f1-score   support\n",
      "\n",
      "           0       0.80      0.99      0.88      6157\n",
      "           1       0.83      0.22      0.34      1983\n",
      "\n",
      "    accuracy                           0.80      8140\n",
      "   macro avg       0.82      0.60      0.61      8140\n",
      "weighted avg       0.81      0.80      0.75      8140\n",
      "\n"
     ]
    }
   ],
   "source": [
    "m4=KNeighborsClassifier(n_neighbors=21)\n",
    "gen_model(m4,x_train,x_test,y_train,y_test)"
   ]
  },
  {
   "cell_type": "code",
   "execution_count": 50,
   "id": "1174ef8d",
   "metadata": {},
   "outputs": [
    {
     "name": "stdout",
     "output_type": "stream",
     "text": [
      "Precision for 0:  0.796327868852459\n",
      "Precision for 1:  0.8349514563106796\n",
      "Recall for 0:  0.986194575280169\n",
      "Recall for 1:  0.2168431669188099\n",
      "F1-Score for 0:  0.8811493252067915\n",
      "F1-Score for 1:  0.344275420336269\n",
      "Accuracy:  0.7987714987714988\n",
      "Misclassification Percentage:  0.20122850122850122\n"
     ]
    }
   ],
   "source": [
    "val_res(cm)"
   ]
  },
  {
   "cell_type": "markdown",
   "id": "fe3ba86a",
   "metadata": {},
   "source": [
    "# <center>RANDOM FOREST IS THE BEST PERFORMING MODEL <br>AS IT HAS THE BEST ACCURACY</center>"
   ]
  }
 ],
 "metadata": {
  "kernelspec": {
   "display_name": "Python 3 (ipykernel)",
   "language": "python",
   "name": "python3"
  },
  "language_info": {
   "codemirror_mode": {
    "name": "ipython",
    "version": 3
   },
   "file_extension": ".py",
   "mimetype": "text/x-python",
   "name": "python",
   "nbconvert_exporter": "python",
   "pygments_lexer": "ipython3",
   "version": "3.9.12"
  }
 },
 "nbformat": 4,
 "nbformat_minor": 5
}
